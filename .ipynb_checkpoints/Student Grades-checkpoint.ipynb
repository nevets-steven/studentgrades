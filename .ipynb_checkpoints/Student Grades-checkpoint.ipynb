{
 "cells": [
  {
   "cell_type": "code",
   "execution_count": 1,
   "id": "25532342",
   "metadata": {},
   "outputs": [],
   "source": [
    "import pandas as pd"
   ]
  },
  {
   "cell_type": "code",
   "execution_count": 2,
   "id": "100e3473",
   "metadata": {},
   "outputs": [
    {
     "data": {
      "text/html": [
       "<div>\n",
       "<style scoped>\n",
       "    .dataframe tbody tr th:only-of-type {\n",
       "        vertical-align: middle;\n",
       "    }\n",
       "\n",
       "    .dataframe tbody tr th {\n",
       "        vertical-align: top;\n",
       "    }\n",
       "\n",
       "    .dataframe thead th {\n",
       "        text-align: right;\n",
       "    }\n",
       "</style>\n",
       "<table border=\"1\" class=\"dataframe\">\n",
       "  <thead>\n",
       "    <tr style=\"text-align: right;\">\n",
       "      <th></th>\n",
       "      <th>Math</th>\n",
       "      <th>Science</th>\n",
       "      <th>Reading</th>\n",
       "      <th>History</th>\n",
       "    </tr>\n",
       "  </thead>\n",
       "  <tbody>\n",
       "    <tr>\n",
       "      <th>0</th>\n",
       "      <td>11.0</td>\n",
       "      <td>9.0</td>\n",
       "      <td>16.0</td>\n",
       "      <td>13.5</td>\n",
       "    </tr>\n",
       "    <tr>\n",
       "      <th>1</th>\n",
       "      <td>12.0</td>\n",
       "      <td>11.0</td>\n",
       "      <td>8.5</td>\n",
       "      <td>10.0</td>\n",
       "    </tr>\n",
       "    <tr>\n",
       "      <th>2</th>\n",
       "      <td>11.0</td>\n",
       "      <td>18.0</td>\n",
       "      <td>11.5</td>\n",
       "      <td>9.0</td>\n",
       "    </tr>\n",
       "    <tr>\n",
       "      <th>3</th>\n",
       "      <td>7.0</td>\n",
       "      <td>15.5</td>\n",
       "      <td>11.0</td>\n",
       "      <td>14.0</td>\n",
       "    </tr>\n",
       "    <tr>\n",
       "      <th>4</th>\n",
       "      <td>9.5</td>\n",
       "      <td>12.0</td>\n",
       "      <td>10.5</td>\n",
       "      <td>14.0</td>\n",
       "    </tr>\n",
       "    <tr>\n",
       "      <th>5</th>\n",
       "      <td>15.0</td>\n",
       "      <td>18.5</td>\n",
       "      <td>7.0</td>\n",
       "      <td>12.0</td>\n",
       "    </tr>\n",
       "    <tr>\n",
       "      <th>6</th>\n",
       "      <td>18.0</td>\n",
       "      <td>15.5</td>\n",
       "      <td>11.0</td>\n",
       "      <td>7.5</td>\n",
       "    </tr>\n",
       "  </tbody>\n",
       "</table>\n",
       "</div>"
      ],
      "text/plain": [
       "   Math  Science  Reading  History\n",
       "0  11.0      9.0     16.0     13.5\n",
       "1  12.0     11.0      8.5     10.0\n",
       "2  11.0     18.0     11.5      9.0\n",
       "3   7.0     15.5     11.0     14.0\n",
       "4   9.5     12.0     10.5     14.0\n",
       "5  15.0     18.5      7.0     12.0\n",
       "6  18.0     15.5     11.0      7.5"
      ]
     },
     "execution_count": 2,
     "metadata": {},
     "output_type": "execute_result"
    }
   ],
   "source": [
    "data = {'Math': [11, 12, 11, 7, 9.5, 15, 18], 'Science': [9, 11, 18, 15.5, 12, 18.5, 15.5], 'Reading': [16, 8.5, 11.5, 11, 10.5, 7, 11],\n",
    "       'History': [13.5, 10, 9, 14, 14, 12, 7.5]}\n",
    "df = pd.DataFrame(data)\n",
    "df"
   ]
  },
  {
   "cell_type": "code",
   "execution_count": 3,
   "id": "21efc46e",
   "metadata": {},
   "outputs": [
    {
     "name": "stdout",
     "output_type": "stream",
     "text": [
      "Math Mean: 11.928571428571429\n",
      "Science Mean: 14.214285714285714\n",
      "Reading Mean: 10.785714285714286\n",
      "History Mean: 11.428571428571429\n"
     ]
    }
   ],
   "source": [
    "math_mean = df['Math'].mean()\n",
    "sci_mean = df['Science'].mean()\n",
    "read_mean = df['Reading'].mean()\n",
    "hist_mean = df['History'].mean()\n",
    "\n",
    "print(f'Math Mean: {math_mean}')\n",
    "print(f'Science Mean: {sci_mean}')\n",
    "print(f'Reading Mean: {read_mean}')\n",
    "print(f'History Mean: {hist_mean}')"
   ]
  },
  {
   "cell_type": "code",
   "execution_count": 4,
   "id": "ae51b678",
   "metadata": {},
   "outputs": [
    {
     "name": "stdout",
     "output_type": "stream",
     "text": [
      "Math Median Score: 11.0\n"
     ]
    }
   ],
   "source": [
    "math_median = df['Math'].median()\n",
    "print(f'Math Median Score: {math_median}')"
   ]
  },
  {
   "cell_type": "code",
   "execution_count": 5,
   "id": "23535c10",
   "metadata": {},
   "outputs": [
    {
     "name": "stdout",
     "output_type": "stream",
     "text": [
      "History Mode: 0    14.0\n",
      "Name: History, dtype: float64\n"
     ]
    }
   ],
   "source": [
    "hist_mode = df['History'].mode()\n",
    "print(f'History Mode: {hist_mode}')"
   ]
  },
  {
   "cell_type": "code",
   "execution_count": 6,
   "id": "080a757c",
   "metadata": {},
   "outputs": [
    {
     "data": {
      "text/html": [
       "<div>\n",
       "<style scoped>\n",
       "    .dataframe tbody tr th:only-of-type {\n",
       "        vertical-align: middle;\n",
       "    }\n",
       "\n",
       "    .dataframe tbody tr th {\n",
       "        vertical-align: top;\n",
       "    }\n",
       "\n",
       "    .dataframe thead th {\n",
       "        text-align: right;\n",
       "    }\n",
       "</style>\n",
       "<table border=\"1\" class=\"dataframe\">\n",
       "  <thead>\n",
       "    <tr style=\"text-align: right;\">\n",
       "      <th></th>\n",
       "      <th>Math</th>\n",
       "      <th>Science</th>\n",
       "      <th>Reading</th>\n",
       "      <th>History</th>\n",
       "    </tr>\n",
       "  </thead>\n",
       "  <tbody>\n",
       "    <tr>\n",
       "      <th>Math</th>\n",
       "      <td>1.000000</td>\n",
       "      <td>0.269494</td>\n",
       "      <td>-0.268562</td>\n",
       "      <td>-0.718358</td>\n",
       "    </tr>\n",
       "    <tr>\n",
       "      <th>Science</th>\n",
       "      <td>0.269494</td>\n",
       "      <td>1.000000</td>\n",
       "      <td>-0.527606</td>\n",
       "      <td>-0.358688</td>\n",
       "    </tr>\n",
       "    <tr>\n",
       "      <th>Reading</th>\n",
       "      <td>-0.268562</td>\n",
       "      <td>-0.527606</td>\n",
       "      <td>1.000000</td>\n",
       "      <td>0.206794</td>\n",
       "    </tr>\n",
       "    <tr>\n",
       "      <th>History</th>\n",
       "      <td>-0.718358</td>\n",
       "      <td>-0.358688</td>\n",
       "      <td>0.206794</td>\n",
       "      <td>1.000000</td>\n",
       "    </tr>\n",
       "  </tbody>\n",
       "</table>\n",
       "</div>"
      ],
      "text/plain": [
       "             Math   Science   Reading   History\n",
       "Math     1.000000  0.269494 -0.268562 -0.718358\n",
       "Science  0.269494  1.000000 -0.527606 -0.358688\n",
       "Reading -0.268562 -0.527606  1.000000  0.206794\n",
       "History -0.718358 -0.358688  0.206794  1.000000"
      ]
     },
     "execution_count": 6,
     "metadata": {},
     "output_type": "execute_result"
    }
   ],
   "source": [
    "df.corr()"
   ]
  },
  {
   "cell_type": "markdown",
   "id": "05fbcf63",
   "metadata": {},
   "source": [
    "### Science and Math have the strongest correlation"
   ]
  },
  {
   "cell_type": "code",
   "execution_count": 7,
   "id": "ddffa68e",
   "metadata": {},
   "outputs": [],
   "source": [
    "import numpy as np\n"
   ]
  },
  {
   "cell_type": "code",
   "execution_count": 8,
   "id": "eb24fc84",
   "metadata": {},
   "outputs": [],
   "source": [
    "arr = np.array([24, 5, 15, 60, 54, 82, 99, 80, 70, 98, 93, 60, \n",
    "                33, 22, 65, 61, 51, 58, 83, 86, 42, 67, 60])\n"
   ]
  },
  {
   "cell_type": "code",
   "execution_count": 9,
   "id": "2d15724d",
   "metadata": {},
   "outputs": [],
   "source": [
    "import statistics"
   ]
  },
  {
   "cell_type": "code",
   "execution_count": 10,
   "id": "4fb6dc99",
   "metadata": {},
   "outputs": [
    {
     "name": "stdout",
     "output_type": "stream",
     "text": [
      "Mean: 59.47826086956522\n",
      "Median: 60.0\n",
      "Mode: 60\n",
      "Minimum: 5\n",
      "Maximum: 99\n",
      "Range: 94\n",
      "Variance: 664.1625708884687\n",
      "Standard Deviation: 25.771351747404882\n"
     ]
    }
   ],
   "source": [
    "def desc_stats(nums):\n",
    "    print(f'Mean: {nums.mean()}')\n",
    "    print(f'Median: {np.median(nums)}')\n",
    "    print(f'Mode: {statistics.mode(nums)}')\n",
    "    print(f'Minimum: {nums.min()}')\n",
    "    print(f'Maximum: {nums.max()}')\n",
    "    print(f'Range: {np.ptp(nums)}')\n",
    "    print(f'Variance: {np.var(nums)}')\n",
    "    print(f'Standard Deviation: {np.std(nums)}')\n",
    "    \n",
    "    \n",
    "\n",
    "desc_stats(arr)"
   ]
  },
  {
   "cell_type": "markdown",
   "id": "b7021f2f",
   "metadata": {},
   "source": [
    "## Should there be a curve?\n",
    "\n",
    "### Yes, there should be based on the data above. The range of the data set is 94, which means there are students who did well, but extremely poorly. This range results in a larger variance value giving us a wider variation curve, where in this case we would prefer to have a smaller variance. WIth a large variance like we have here, the standard deviation is over 25, meaning scores are larger in difference. "
   ]
  },
  {
   "cell_type": "markdown",
   "id": "1918cff5",
   "metadata": {},
   "source": [
    "### Also, with the variance and standard deviation being large numbers, the mean score for the class is failing, we would want that to be at least a C average. The mode is also telling me that the most common score is a 60%, a low D grade. \n"
   ]
  },
  {
   "cell_type": "code",
   "execution_count": null,
   "id": "75140cce",
   "metadata": {},
   "outputs": [],
   "source": []
  },
  {
   "cell_type": "code",
   "execution_count": null,
   "id": "726bbae2",
   "metadata": {},
   "outputs": [],
   "source": []
  }
 ],
 "metadata": {
  "kernelspec": {
   "display_name": "Python 3 (ipykernel)",
   "language": "python",
   "name": "python3"
  },
  "language_info": {
   "codemirror_mode": {
    "name": "ipython",
    "version": 3
   },
   "file_extension": ".py",
   "mimetype": "text/x-python",
   "name": "python",
   "nbconvert_exporter": "python",
   "pygments_lexer": "ipython3",
   "version": "3.9.13"
  }
 },
 "nbformat": 4,
 "nbformat_minor": 5
}
